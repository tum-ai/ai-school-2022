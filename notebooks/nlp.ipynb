{
  "nbformat": 4,
  "nbformat_minor": 0,
  "metadata": {
    "colab": {
      "name": "Untitled3.ipynb",
      "provenance": [],
      "collapsed_sections": []
    },
    "kernelspec": {
      "name": "python3",
      "display_name": "Python 3"
    },
    "language_info": {
      "name": "python"
    }
  },
  "cells": [
    {
      "cell_type": "markdown",
      "source": [
        "![grafik](https://github.com/tum-ai/ai-school-2022/blob/main/images/tum-ai-logo.png?raw=true)"
      ],
      "metadata": {
        "id": "yk5WjtQecjMM"
      }
    },
    {
      "cell_type": "markdown",
      "source": [
        "# AI-School NLP Notebook\n",
        "In this notebook we will use Higgig Face 🤗 to let a language model answer questions for a given input text."
      ],
      "metadata": {
        "id": "iwaHbZFKepp9"
      }
    },
    {
      "cell_type": "markdown",
      "source": [
        "![grafik](https://github.com/tum-ai/ai-school-2022/blob/main/images/nlp-question-answering-model-in-and-output.png?raw=true)"
      ],
      "metadata": {
        "id": "-PQ04MFajYw6"
      }
    },
    {
      "cell_type": "markdown",
      "source": [
        "# Preparing Hugging Face 🤗"
      ],
      "metadata": {
        "id": "3AkynuwVbvYg"
      }
    },
    {
      "cell_type": "code",
      "execution_count": 1,
      "metadata": {
        "colab": {
          "base_uri": "https://localhost:8080/"
        },
        "id": "T97SF4QCaQi2",
        "outputId": "5020aa7c-7cda-407a-a632-69e580f810c6"
      },
      "outputs": [
        {
          "output_type": "stream",
          "name": "stdout",
          "text": [
            "Looking in indexes: https://pypi.org/simple, https://us-python.pkg.dev/colab-wheels/public/simple/\n",
            "Requirement already satisfied: transformers in /usr/local/lib/python3.7/dist-packages (4.21.0)\n",
            "Requirement already satisfied: pyyaml>=5.1 in /usr/local/lib/python3.7/dist-packages (from transformers) (6.0)\n",
            "Requirement already satisfied: regex!=2019.12.17 in /usr/local/lib/python3.7/dist-packages (from transformers) (2022.6.2)\n",
            "Requirement already satisfied: packaging>=20.0 in /usr/local/lib/python3.7/dist-packages (from transformers) (21.3)\n",
            "Requirement already satisfied: requests in /usr/local/lib/python3.7/dist-packages (from transformers) (2.23.0)\n",
            "Requirement already satisfied: numpy>=1.17 in /usr/local/lib/python3.7/dist-packages (from transformers) (1.21.6)\n",
            "Requirement already satisfied: filelock in /usr/local/lib/python3.7/dist-packages (from transformers) (3.7.1)\n",
            "Requirement already satisfied: huggingface-hub<1.0,>=0.1.0 in /usr/local/lib/python3.7/dist-packages (from transformers) (0.8.1)\n",
            "Requirement already satisfied: importlib-metadata in /usr/local/lib/python3.7/dist-packages (from transformers) (4.12.0)\n",
            "Requirement already satisfied: tokenizers!=0.11.3,<0.13,>=0.11.1 in /usr/local/lib/python3.7/dist-packages (from transformers) (0.12.1)\n",
            "Requirement already satisfied: tqdm>=4.27 in /usr/local/lib/python3.7/dist-packages (from transformers) (4.64.0)\n",
            "Requirement already satisfied: typing-extensions>=3.7.4.3 in /usr/local/lib/python3.7/dist-packages (from huggingface-hub<1.0,>=0.1.0->transformers) (4.1.1)\n",
            "Requirement already satisfied: pyparsing!=3.0.5,>=2.0.2 in /usr/local/lib/python3.7/dist-packages (from packaging>=20.0->transformers) (3.0.9)\n",
            "Requirement already satisfied: zipp>=0.5 in /usr/local/lib/python3.7/dist-packages (from importlib-metadata->transformers) (3.8.1)\n",
            "Requirement already satisfied: idna<3,>=2.5 in /usr/local/lib/python3.7/dist-packages (from requests->transformers) (2.10)\n",
            "Requirement already satisfied: chardet<4,>=3.0.2 in /usr/local/lib/python3.7/dist-packages (from requests->transformers) (3.0.4)\n",
            "Requirement already satisfied: certifi>=2017.4.17 in /usr/local/lib/python3.7/dist-packages (from requests->transformers) (2022.6.15)\n",
            "Requirement already satisfied: urllib3!=1.25.0,!=1.25.1,<1.26,>=1.21.1 in /usr/local/lib/python3.7/dist-packages (from requests->transformers) (1.24.3)\n"
          ]
        }
      ],
      "source": [
        "# Installing Hugging Face\n",
        "!pip install transformers"
      ]
    },
    {
      "cell_type": "code",
      "source": [
        "# Import Hugging Face pipeline\n",
        "from transformers import pipeline\n",
        "\n",
        "# Load the default language model for answering questions\n",
        "qa_model = pipeline(task=\"question-answering\")"
      ],
      "metadata": {
        "colab": {
          "base_uri": "https://localhost:8080/"
        },
        "id": "uFiAiGf6a6o1",
        "outputId": "c0785fc7-d24f-4604-f0d1-f9b786384c2c"
      },
      "execution_count": 2,
      "outputs": [
        {
          "output_type": "stream",
          "name": "stderr",
          "text": [
            "No model was supplied, defaulted to distilbert-base-cased-distilled-squad and revision 626af31 (https://huggingface.co/distilbert-base-cased-distilled-squad).\n",
            "Using a pipeline without specifying a model name and revision in production is not recommended.\n"
          ]
        }
      ]
    },
    {
      "cell_type": "markdown",
      "source": [
        "# Doing predictions\n",
        "Once the pretrained model `qa_model` is loaded, we can use it to answer questions for us:\n",
        "\n",
        "* `context` Input text you want to ask a question about\n",
        "* `question` What do you want to know from the input text?\n",
        "* `Answer` The predicted answer by the model\n",
        "* `Score` How confident the model is in its prediction (maximum is 1.0 => very confident)"
      ],
      "metadata": {
        "id": "TkoXZhAFh-mn"
      }
    },
    {
      "cell_type": "code",
      "source": [
        "# Inputs: Feel free to edit!\n",
        "context = \"The Amazon rainforest, also known in English as Amazonia or the Amazon Jungle\"\n",
        "question = \"Which name is also used to describe the Amazon rainforest in English?\"\n",
        "\n",
        "# Letting the model predict\n",
        "res = qa_model(question = question, context = context)\n",
        "\n",
        "# Printing out the result of the prediction\n",
        "print(f\"Answer: {res['answer']}\\nScoree: {res['score']}\")"
      ],
      "metadata": {
        "colab": {
          "base_uri": "https://localhost:8080/"
        },
        "id": "odJdlGtqayvI",
        "outputId": "ea3d047c-cbcf-42f8-dbfa-5dccdf7db12c"
      },
      "execution_count": 3,
      "outputs": [
        {
          "output_type": "stream",
          "name": "stdout",
          "text": [
            "Answer: Amazonia\n",
            "Scoree: 0.9127641916275024\n"
          ]
        }
      ]
    },
    {
      "cell_type": "code",
      "source": [
        ""
      ],
      "metadata": {
        "id": "QJZ-W1Z9bJ2e"
      },
      "execution_count": 3,
      "outputs": []
    }
  ]
}